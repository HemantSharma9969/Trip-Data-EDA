{
 "cells": [
  {
   "cell_type": "code",
   "execution_count": 2,
   "metadata": {},
   "outputs": [],
   "source": [
    "import pyforest"
   ]
  },
  {
   "cell_type": "code",
   "execution_count": 109,
   "metadata": {},
   "outputs": [
    {
     "data": {
      "application/javascript": [
       "\n",
       "        if (window._pyforest_update_imports_cell) { window._pyforest_update_imports_cell('import datetime as dt\\nimport pandas as pd'); }\n",
       "    "
      ],
      "text/plain": [
       "<IPython.core.display.Javascript object>"
      ]
     },
     "metadata": {},
     "output_type": "display_data"
    }
   ],
   "source": [
    "df = pd.read_csv(\"trip_data.csv\")"
   ]
  },
  {
   "cell_type": "code",
   "execution_count": 6,
   "metadata": {},
   "outputs": [
    {
     "data": {
      "text/html": [
       "<div>\n",
       "<style scoped>\n",
       "    .dataframe tbody tr th:only-of-type {\n",
       "        vertical-align: middle;\n",
       "    }\n",
       "\n",
       "    .dataframe tbody tr th {\n",
       "        vertical-align: top;\n",
       "    }\n",
       "\n",
       "    .dataframe thead th {\n",
       "        text-align: right;\n",
       "    }\n",
       "</style>\n",
       "<table border=\"1\" class=\"dataframe\">\n",
       "  <thead>\n",
       "    <tr style=\"text-align: right;\">\n",
       "      <th></th>\n",
       "      <th>Trip ID</th>\n",
       "      <th>Duration</th>\n",
       "      <th>Start Date</th>\n",
       "      <th>Start Station</th>\n",
       "      <th>Start Terminal</th>\n",
       "      <th>End Date</th>\n",
       "      <th>End Station</th>\n",
       "      <th>End Terminal</th>\n",
       "      <th>Bike #</th>\n",
       "      <th>Subscriber Type</th>\n",
       "      <th>Zip Code</th>\n",
       "    </tr>\n",
       "  </thead>\n",
       "  <tbody>\n",
       "    <tr>\n",
       "      <td>0</td>\n",
       "      <td>432946</td>\n",
       "      <td>406</td>\n",
       "      <td>8/31/2014 22:31</td>\n",
       "      <td>Mountain View Caltrain Station</td>\n",
       "      <td>28</td>\n",
       "      <td>8/31/2014 22:38</td>\n",
       "      <td>Castro Street and El Camino Real</td>\n",
       "      <td>32</td>\n",
       "      <td>17</td>\n",
       "      <td>Subscriber</td>\n",
       "      <td>94040</td>\n",
       "    </tr>\n",
       "    <tr>\n",
       "      <td>1</td>\n",
       "      <td>432945</td>\n",
       "      <td>468</td>\n",
       "      <td>8/31/2014 22:07</td>\n",
       "      <td>Beale at Market</td>\n",
       "      <td>56</td>\n",
       "      <td>8/31/2014 22:15</td>\n",
       "      <td>Market at 4th</td>\n",
       "      <td>76</td>\n",
       "      <td>509</td>\n",
       "      <td>Customer</td>\n",
       "      <td>11231</td>\n",
       "    </tr>\n",
       "    <tr>\n",
       "      <td>2</td>\n",
       "      <td>432944</td>\n",
       "      <td>534</td>\n",
       "      <td>8/31/2014 22:06</td>\n",
       "      <td>Beale at Market</td>\n",
       "      <td>56</td>\n",
       "      <td>8/31/2014 22:15</td>\n",
       "      <td>Market at 4th</td>\n",
       "      <td>76</td>\n",
       "      <td>342</td>\n",
       "      <td>Customer</td>\n",
       "      <td>11231</td>\n",
       "    </tr>\n",
       "    <tr>\n",
       "      <td>3</td>\n",
       "      <td>432942</td>\n",
       "      <td>1041</td>\n",
       "      <td>8/31/2014 21:45</td>\n",
       "      <td>Embarcadero at Sansome</td>\n",
       "      <td>60</td>\n",
       "      <td>8/31/2014 22:02</td>\n",
       "      <td>Steuart at Market</td>\n",
       "      <td>74</td>\n",
       "      <td>603</td>\n",
       "      <td>Customer</td>\n",
       "      <td>94521</td>\n",
       "    </tr>\n",
       "    <tr>\n",
       "      <td>4</td>\n",
       "      <td>432941</td>\n",
       "      <td>1091</td>\n",
       "      <td>8/31/2014 21:44</td>\n",
       "      <td>Embarcadero at Sansome</td>\n",
       "      <td>60</td>\n",
       "      <td>8/31/2014 22:02</td>\n",
       "      <td>Steuart at Market</td>\n",
       "      <td>74</td>\n",
       "      <td>598</td>\n",
       "      <td>Customer</td>\n",
       "      <td>94521</td>\n",
       "    </tr>\n",
       "  </tbody>\n",
       "</table>\n",
       "</div>"
      ],
      "text/plain": [
       "   Trip ID  Duration       Start Date                   Start Station  \\\n",
       "0   432946       406  8/31/2014 22:31  Mountain View Caltrain Station   \n",
       "1   432945       468  8/31/2014 22:07                 Beale at Market   \n",
       "2   432944       534  8/31/2014 22:06                 Beale at Market   \n",
       "3   432942      1041  8/31/2014 21:45          Embarcadero at Sansome   \n",
       "4   432941      1091  8/31/2014 21:44          Embarcadero at Sansome   \n",
       "\n",
       "   Start Terminal         End Date                       End Station  \\\n",
       "0              28  8/31/2014 22:38  Castro Street and El Camino Real   \n",
       "1              56  8/31/2014 22:15                     Market at 4th   \n",
       "2              56  8/31/2014 22:15                     Market at 4th   \n",
       "3              60  8/31/2014 22:02                 Steuart at Market   \n",
       "4              60  8/31/2014 22:02                 Steuart at Market   \n",
       "\n",
       "   End Terminal  Bike # Subscriber Type Zip Code  \n",
       "0            32      17      Subscriber    94040  \n",
       "1            76     509        Customer    11231  \n",
       "2            76     342        Customer    11231  \n",
       "3            74     603        Customer    94521  \n",
       "4            74     598        Customer    94521  "
      ]
     },
     "execution_count": 6,
     "metadata": {},
     "output_type": "execute_result"
    }
   ],
   "source": [
    "df.head()"
   ]
  },
  {
   "cell_type": "code",
   "execution_count": 7,
   "metadata": {},
   "outputs": [
    {
     "data": {
      "text/html": [
       "<div>\n",
       "<style scoped>\n",
       "    .dataframe tbody tr th:only-of-type {\n",
       "        vertical-align: middle;\n",
       "    }\n",
       "\n",
       "    .dataframe tbody tr th {\n",
       "        vertical-align: top;\n",
       "    }\n",
       "\n",
       "    .dataframe thead th {\n",
       "        text-align: right;\n",
       "    }\n",
       "</style>\n",
       "<table border=\"1\" class=\"dataframe\">\n",
       "  <thead>\n",
       "    <tr style=\"text-align: right;\">\n",
       "      <th></th>\n",
       "      <th>Trip ID</th>\n",
       "      <th>Duration</th>\n",
       "      <th>Start Date</th>\n",
       "      <th>Start Station</th>\n",
       "      <th>Start Terminal</th>\n",
       "      <th>End Date</th>\n",
       "      <th>End Station</th>\n",
       "      <th>End Terminal</th>\n",
       "      <th>Bike #</th>\n",
       "      <th>Subscriber Type</th>\n",
       "      <th>Zip Code</th>\n",
       "    </tr>\n",
       "  </thead>\n",
       "  <tbody>\n",
       "    <tr>\n",
       "      <td>171787</td>\n",
       "      <td>198780</td>\n",
       "      <td>429</td>\n",
       "      <td>3/1/2014 0:42</td>\n",
       "      <td>Spear at Folsom</td>\n",
       "      <td>49</td>\n",
       "      <td>3/1/2014 0:49</td>\n",
       "      <td>Broadway St at Battery St</td>\n",
       "      <td>82</td>\n",
       "      <td>395</td>\n",
       "      <td>Subscriber</td>\n",
       "      <td>94105</td>\n",
       "    </tr>\n",
       "    <tr>\n",
       "      <td>171788</td>\n",
       "      <td>198779</td>\n",
       "      <td>179</td>\n",
       "      <td>3/1/2014 0:22</td>\n",
       "      <td>Powell Street BART</td>\n",
       "      <td>39</td>\n",
       "      <td>3/1/2014 0:25</td>\n",
       "      <td>Market at 4th</td>\n",
       "      <td>76</td>\n",
       "      <td>439</td>\n",
       "      <td>Subscriber</td>\n",
       "      <td>94107</td>\n",
       "    </tr>\n",
       "    <tr>\n",
       "      <td>171789</td>\n",
       "      <td>198778</td>\n",
       "      <td>224</td>\n",
       "      <td>3/1/2014 0:21</td>\n",
       "      <td>Civic Center BART (7th at Market)</td>\n",
       "      <td>72</td>\n",
       "      <td>3/1/2014 0:25</td>\n",
       "      <td>Golden Gate at Polk</td>\n",
       "      <td>59</td>\n",
       "      <td>380</td>\n",
       "      <td>Subscriber</td>\n",
       "      <td>94103</td>\n",
       "    </tr>\n",
       "    <tr>\n",
       "      <td>171790</td>\n",
       "      <td>198777</td>\n",
       "      <td>445</td>\n",
       "      <td>3/1/2014 0:16</td>\n",
       "      <td>San Francisco Caltrain (Townsend at 4th)</td>\n",
       "      <td>70</td>\n",
       "      <td>3/1/2014 0:23</td>\n",
       "      <td>Embarcadero at Bryant</td>\n",
       "      <td>54</td>\n",
       "      <td>268</td>\n",
       "      <td>Subscriber</td>\n",
       "      <td>94105</td>\n",
       "    </tr>\n",
       "    <tr>\n",
       "      <td>171791</td>\n",
       "      <td>198776</td>\n",
       "      <td>177</td>\n",
       "      <td>3/1/2014 0:14</td>\n",
       "      <td>Yerba Buena Center of the Arts (3rd @ Howard)</td>\n",
       "      <td>68</td>\n",
       "      <td>3/1/2014 0:17</td>\n",
       "      <td>Market at Sansome</td>\n",
       "      <td>77</td>\n",
       "      <td>398</td>\n",
       "      <td>Subscriber</td>\n",
       "      <td>94105</td>\n",
       "    </tr>\n",
       "  </tbody>\n",
       "</table>\n",
       "</div>"
      ],
      "text/plain": [
       "        Trip ID  Duration     Start Date  \\\n",
       "171787   198780       429  3/1/2014 0:42   \n",
       "171788   198779       179  3/1/2014 0:22   \n",
       "171789   198778       224  3/1/2014 0:21   \n",
       "171790   198777       445  3/1/2014 0:16   \n",
       "171791   198776       177  3/1/2014 0:14   \n",
       "\n",
       "                                        Start Station  Start Terminal  \\\n",
       "171787                                Spear at Folsom              49   \n",
       "171788                             Powell Street BART              39   \n",
       "171789              Civic Center BART (7th at Market)              72   \n",
       "171790       San Francisco Caltrain (Townsend at 4th)              70   \n",
       "171791  Yerba Buena Center of the Arts (3rd @ Howard)              68   \n",
       "\n",
       "             End Date                End Station  End Terminal  Bike #  \\\n",
       "171787  3/1/2014 0:49  Broadway St at Battery St            82     395   \n",
       "171788  3/1/2014 0:25              Market at 4th            76     439   \n",
       "171789  3/1/2014 0:25        Golden Gate at Polk            59     380   \n",
       "171790  3/1/2014 0:23      Embarcadero at Bryant            54     268   \n",
       "171791  3/1/2014 0:17          Market at Sansome            77     398   \n",
       "\n",
       "       Subscriber Type Zip Code  \n",
       "171787      Subscriber    94105  \n",
       "171788      Subscriber    94107  \n",
       "171789      Subscriber    94103  \n",
       "171790      Subscriber    94105  \n",
       "171791      Subscriber    94105  "
      ]
     },
     "execution_count": 7,
     "metadata": {},
     "output_type": "execute_result"
    }
   ],
   "source": [
    "df.tail()"
   ]
  },
  {
   "cell_type": "code",
   "execution_count": 9,
   "metadata": {},
   "outputs": [
    {
     "data": {
      "text/plain": [
       "(171792, 11)"
      ]
     },
     "execution_count": 9,
     "metadata": {},
     "output_type": "execute_result"
    }
   ],
   "source": [
    "df.shape"
   ]
  },
  {
   "cell_type": "code",
   "execution_count": 10,
   "metadata": {},
   "outputs": [
    {
     "name": "stdout",
     "output_type": "stream",
     "text": [
      "<class 'pandas.core.frame.DataFrame'>\n",
      "RangeIndex: 171792 entries, 0 to 171791\n",
      "Data columns (total 11 columns):\n",
      "Trip ID            171792 non-null int64\n",
      "Duration           171792 non-null int64\n",
      "Start Date         171792 non-null object\n",
      "Start Station      171792 non-null object\n",
      "Start Terminal     171792 non-null int64\n",
      "End Date           171792 non-null object\n",
      "End Station        171792 non-null object\n",
      "End Terminal       171792 non-null int64\n",
      "Bike #             171792 non-null int64\n",
      "Subscriber Type    171792 non-null object\n",
      "Zip Code           171581 non-null object\n",
      "dtypes: int64(5), object(6)\n",
      "memory usage: 14.4+ MB\n"
     ]
    }
   ],
   "source": [
    "df.info()"
   ]
  },
  {
   "cell_type": "markdown",
   "metadata": {},
   "source": [
    "### 1. Total number of trips in the data set?"
   ]
  },
  {
   "cell_type": "code",
   "execution_count": 19,
   "metadata": {},
   "outputs": [
    {
     "name": "stdout",
     "output_type": "stream",
     "text": [
      "Total number of trips in the data set :  171792\n"
     ]
    }
   ],
   "source": [
    "print(\"Total number of trips in the data set : \",df['Trip ID'].nunique())"
   ]
  },
  {
   "cell_type": "markdown",
   "metadata": {},
   "source": [
    "### 2. Number of unique trips in the data set? "
   ]
  },
  {
   "cell_type": "code",
   "execution_count": 20,
   "metadata": {
    "collapsed": true
   },
   "outputs": [
    {
     "data": {
      "text/plain": [
       "array(['Mountain View Caltrain Station', 'Beale at Market',\n",
       "       'Embarcadero at Sansome', '2nd at Townsend', 'Market at Sansome',\n",
       "       'Howard at 2nd', 'Harry Bridges Plaza (Ferry Building)',\n",
       "       'San Francisco Caltrain (Townsend at 4th)',\n",
       "       'Temporary Transbay Terminal (Howard at Beale)',\n",
       "       'Grant Avenue at Columbus Avenue', 'Post at Kearny',\n",
       "       '5th at Howard', 'Powell Street BART',\n",
       "       'Powell at Post (Union Square)', 'Washington at Kearny',\n",
       "       'Davis at Jackson', 'Embarcadero at Vallejo',\n",
       "       'Yerba Buena Center of the Arts (3rd @ Howard)',\n",
       "       'California Ave Caltrain Station', 'Embarcadero at Bryant',\n",
       "       'Broadway St at Battery St', 'South Van Ness at Market',\n",
       "       'University and Emerson', '2nd at South Park',\n",
       "       'Arena Green / SAP Center', 'Embarcadero at Folsom',\n",
       "       'Castro Street and El Camino Real', 'Market at 4th',\n",
       "       'San Pedro Square', '2nd at Folsom', 'Clay at Battery',\n",
       "       'Mountain View City Hall', 'San Antonio Caltrain Station',\n",
       "       'Townsend at 7th', 'Japantown', 'Steuart at Market', 'MLK Library',\n",
       "       'Market at 10th', 'San Francisco Caltrain 2 (330 Townsend)',\n",
       "       'Golden Gate at Polk', 'San Salvador at 1st',\n",
       "       'Santa Clara at Almaden', 'Civic Center BART (7th at Market)',\n",
       "       'San Francisco City Hall', 'Redwood City Caltrain Station',\n",
       "       'Palo Alto Caltrain Station', 'Cowper at University',\n",
       "       'Spear at Folsom', 'Paseo de San Antonio',\n",
       "       'Mechanics Plaza (Market at Battery)',\n",
       "       'San Jose Diridon Caltrain Station', 'St James Park',\n",
       "       'Ryland Park', 'SJSU 4th at San Carlos',\n",
       "       'Commercial at Montgomery',\n",
       "       'Rengstorff Avenue / California Street',\n",
       "       'Santa Clara County Civic Center', 'San Antonio Shopping Center',\n",
       "       'SJSU - San Salvador at 9th', 'San Jose Civic Center',\n",
       "       'Adobe on Almaden', 'San Mateo County Center',\n",
       "       'San Jose City Hall', 'Redwood City Medical Center',\n",
       "       'Evelyn Park and Ride', 'Mezes Park',\n",
       "       'Redwood City Public Library', 'Franklin at Maple',\n",
       "       'Park at Olive', 'Broadway at Main'], dtype=object)"
      ]
     },
     "execution_count": 20,
     "metadata": {},
     "output_type": "execute_result"
    }
   ],
   "source": [
    "df['Start Station'].unique()"
   ]
  },
  {
   "cell_type": "code",
   "execution_count": 291,
   "metadata": {},
   "outputs": [
    {
     "data": {
      "text/html": [
       "<div>\n",
       "<style scoped>\n",
       "    .dataframe tbody tr th:only-of-type {\n",
       "        vertical-align: middle;\n",
       "    }\n",
       "\n",
       "    .dataframe tbody tr th {\n",
       "        vertical-align: top;\n",
       "    }\n",
       "\n",
       "    .dataframe thead th {\n",
       "        text-align: right;\n",
       "    }\n",
       "</style>\n",
       "<table border=\"1\" class=\"dataframe\">\n",
       "  <thead>\n",
       "    <tr style=\"text-align: right;\">\n",
       "      <th></th>\n",
       "      <th></th>\n",
       "      <th>Trip ID</th>\n",
       "      <th>Duration</th>\n",
       "      <th>Start Date</th>\n",
       "      <th>Start Terminal</th>\n",
       "      <th>End Date</th>\n",
       "      <th>End Terminal</th>\n",
       "      <th>Bike #</th>\n",
       "      <th>Subscriber Type</th>\n",
       "      <th>Zip Code</th>\n",
       "      <th>Month</th>\n",
       "      <th>Day</th>\n",
       "    </tr>\n",
       "    <tr>\n",
       "      <th>Start Station</th>\n",
       "      <th>End Station</th>\n",
       "      <th></th>\n",
       "      <th></th>\n",
       "      <th></th>\n",
       "      <th></th>\n",
       "      <th></th>\n",
       "      <th></th>\n",
       "      <th></th>\n",
       "      <th></th>\n",
       "      <th></th>\n",
       "      <th></th>\n",
       "      <th></th>\n",
       "    </tr>\n",
       "  </thead>\n",
       "  <tbody>\n",
       "    <tr>\n",
       "      <td rowspan=\"5\" valign=\"top\">2nd at Folsom</td>\n",
       "      <td>2nd at Folsom</td>\n",
       "      <td>45</td>\n",
       "      <td>45</td>\n",
       "      <td>45</td>\n",
       "      <td>45</td>\n",
       "      <td>45</td>\n",
       "      <td>45</td>\n",
       "      <td>45</td>\n",
       "      <td>45</td>\n",
       "      <td>45</td>\n",
       "      <td>45</td>\n",
       "      <td>45</td>\n",
       "    </tr>\n",
       "    <tr>\n",
       "      <td>2nd at South Park</td>\n",
       "      <td>167</td>\n",
       "      <td>167</td>\n",
       "      <td>167</td>\n",
       "      <td>167</td>\n",
       "      <td>167</td>\n",
       "      <td>167</td>\n",
       "      <td>167</td>\n",
       "      <td>167</td>\n",
       "      <td>167</td>\n",
       "      <td>167</td>\n",
       "      <td>167</td>\n",
       "    </tr>\n",
       "    <tr>\n",
       "      <td>2nd at Townsend</td>\n",
       "      <td>160</td>\n",
       "      <td>160</td>\n",
       "      <td>160</td>\n",
       "      <td>160</td>\n",
       "      <td>160</td>\n",
       "      <td>160</td>\n",
       "      <td>160</td>\n",
       "      <td>160</td>\n",
       "      <td>160</td>\n",
       "      <td>160</td>\n",
       "      <td>160</td>\n",
       "    </tr>\n",
       "    <tr>\n",
       "      <td>5th at Howard</td>\n",
       "      <td>114</td>\n",
       "      <td>114</td>\n",
       "      <td>114</td>\n",
       "      <td>114</td>\n",
       "      <td>114</td>\n",
       "      <td>114</td>\n",
       "      <td>114</td>\n",
       "      <td>114</td>\n",
       "      <td>114</td>\n",
       "      <td>114</td>\n",
       "      <td>114</td>\n",
       "    </tr>\n",
       "    <tr>\n",
       "      <td>Beale at Market</td>\n",
       "      <td>54</td>\n",
       "      <td>54</td>\n",
       "      <td>54</td>\n",
       "      <td>54</td>\n",
       "      <td>54</td>\n",
       "      <td>54</td>\n",
       "      <td>54</td>\n",
       "      <td>54</td>\n",
       "      <td>54</td>\n",
       "      <td>54</td>\n",
       "      <td>54</td>\n",
       "    </tr>\n",
       "    <tr>\n",
       "      <td>...</td>\n",
       "      <td>...</td>\n",
       "      <td>...</td>\n",
       "      <td>...</td>\n",
       "      <td>...</td>\n",
       "      <td>...</td>\n",
       "      <td>...</td>\n",
       "      <td>...</td>\n",
       "      <td>...</td>\n",
       "      <td>...</td>\n",
       "      <td>...</td>\n",
       "      <td>...</td>\n",
       "      <td>...</td>\n",
       "    </tr>\n",
       "    <tr>\n",
       "      <td rowspan=\"5\" valign=\"top\">Yerba Buena Center of the Arts (3rd @ Howard)</td>\n",
       "      <td>Steuart at Market</td>\n",
       "      <td>142</td>\n",
       "      <td>142</td>\n",
       "      <td>142</td>\n",
       "      <td>142</td>\n",
       "      <td>142</td>\n",
       "      <td>142</td>\n",
       "      <td>142</td>\n",
       "      <td>142</td>\n",
       "      <td>142</td>\n",
       "      <td>142</td>\n",
       "      <td>142</td>\n",
       "    </tr>\n",
       "    <tr>\n",
       "      <td>Temporary Transbay Terminal (Howard at Beale)</td>\n",
       "      <td>55</td>\n",
       "      <td>55</td>\n",
       "      <td>55</td>\n",
       "      <td>55</td>\n",
       "      <td>55</td>\n",
       "      <td>55</td>\n",
       "      <td>55</td>\n",
       "      <td>55</td>\n",
       "      <td>55</td>\n",
       "      <td>55</td>\n",
       "      <td>55</td>\n",
       "    </tr>\n",
       "    <tr>\n",
       "      <td>Townsend at 7th</td>\n",
       "      <td>120</td>\n",
       "      <td>120</td>\n",
       "      <td>120</td>\n",
       "      <td>120</td>\n",
       "      <td>120</td>\n",
       "      <td>120</td>\n",
       "      <td>120</td>\n",
       "      <td>120</td>\n",
       "      <td>120</td>\n",
       "      <td>120</td>\n",
       "      <td>120</td>\n",
       "    </tr>\n",
       "    <tr>\n",
       "      <td>Washington at Kearny</td>\n",
       "      <td>45</td>\n",
       "      <td>45</td>\n",
       "      <td>45</td>\n",
       "      <td>45</td>\n",
       "      <td>45</td>\n",
       "      <td>45</td>\n",
       "      <td>45</td>\n",
       "      <td>45</td>\n",
       "      <td>45</td>\n",
       "      <td>45</td>\n",
       "      <td>45</td>\n",
       "    </tr>\n",
       "    <tr>\n",
       "      <td>Yerba Buena Center of the Arts (3rd @ Howard)</td>\n",
       "      <td>76</td>\n",
       "      <td>76</td>\n",
       "      <td>76</td>\n",
       "      <td>76</td>\n",
       "      <td>76</td>\n",
       "      <td>76</td>\n",
       "      <td>76</td>\n",
       "      <td>76</td>\n",
       "      <td>76</td>\n",
       "      <td>76</td>\n",
       "      <td>76</td>\n",
       "    </tr>\n",
       "  </tbody>\n",
       "</table>\n",
       "<p>1677 rows × 11 columns</p>\n",
       "</div>"
      ],
      "text/plain": [
       "                                                                                             Trip ID  \\\n",
       "Start Station                                 End Station                                              \n",
       "2nd at Folsom                                 2nd at Folsom                                       45   \n",
       "                                              2nd at South Park                                  167   \n",
       "                                              2nd at Townsend                                    160   \n",
       "                                              5th at Howard                                      114   \n",
       "                                              Beale at Market                                     54   \n",
       "...                                                                                              ...   \n",
       "Yerba Buena Center of the Arts (3rd @ Howard) Steuart at Market                                  142   \n",
       "                                              Temporary Transbay Terminal (Howard at Beale)       55   \n",
       "                                              Townsend at 7th                                    120   \n",
       "                                              Washington at Kearny                                45   \n",
       "                                              Yerba Buena Center of the Arts (3rd @ Howard)       76   \n",
       "\n",
       "                                                                                             Duration  \\\n",
       "Start Station                                 End Station                                               \n",
       "2nd at Folsom                                 2nd at Folsom                                        45   \n",
       "                                              2nd at South Park                                   167   \n",
       "                                              2nd at Townsend                                     160   \n",
       "                                              5th at Howard                                       114   \n",
       "                                              Beale at Market                                      54   \n",
       "...                                                                                               ...   \n",
       "Yerba Buena Center of the Arts (3rd @ Howard) Steuart at Market                                   142   \n",
       "                                              Temporary Transbay Terminal (Howard at Beale)        55   \n",
       "                                              Townsend at 7th                                     120   \n",
       "                                              Washington at Kearny                                 45   \n",
       "                                              Yerba Buena Center of the Arts (3rd @ Howard)        76   \n",
       "\n",
       "                                                                                             Start Date  \\\n",
       "Start Station                                 End Station                                                 \n",
       "2nd at Folsom                                 2nd at Folsom                                          45   \n",
       "                                              2nd at South Park                                     167   \n",
       "                                              2nd at Townsend                                       160   \n",
       "                                              5th at Howard                                         114   \n",
       "                                              Beale at Market                                        54   \n",
       "...                                                                                                 ...   \n",
       "Yerba Buena Center of the Arts (3rd @ Howard) Steuart at Market                                     142   \n",
       "                                              Temporary Transbay Terminal (Howard at Beale)          55   \n",
       "                                              Townsend at 7th                                       120   \n",
       "                                              Washington at Kearny                                   45   \n",
       "                                              Yerba Buena Center of the Arts (3rd @ Howard)          76   \n",
       "\n",
       "                                                                                             Start Terminal  \\\n",
       "Start Station                                 End Station                                                     \n",
       "2nd at Folsom                                 2nd at Folsom                                              45   \n",
       "                                              2nd at South Park                                         167   \n",
       "                                              2nd at Townsend                                           160   \n",
       "                                              5th at Howard                                             114   \n",
       "                                              Beale at Market                                            54   \n",
       "...                                                                                                     ...   \n",
       "Yerba Buena Center of the Arts (3rd @ Howard) Steuart at Market                                         142   \n",
       "                                              Temporary Transbay Terminal (Howard at Beale)              55   \n",
       "                                              Townsend at 7th                                           120   \n",
       "                                              Washington at Kearny                                       45   \n",
       "                                              Yerba Buena Center of the Arts (3rd @ Howard)              76   \n",
       "\n",
       "                                                                                             End Date  \\\n",
       "Start Station                                 End Station                                               \n",
       "2nd at Folsom                                 2nd at Folsom                                        45   \n",
       "                                              2nd at South Park                                   167   \n",
       "                                              2nd at Townsend                                     160   \n",
       "                                              5th at Howard                                       114   \n",
       "                                              Beale at Market                                      54   \n",
       "...                                                                                               ...   \n",
       "Yerba Buena Center of the Arts (3rd @ Howard) Steuart at Market                                   142   \n",
       "                                              Temporary Transbay Terminal (Howard at Beale)        55   \n",
       "                                              Townsend at 7th                                     120   \n",
       "                                              Washington at Kearny                                 45   \n",
       "                                              Yerba Buena Center of the Arts (3rd @ Howard)        76   \n",
       "\n",
       "                                                                                             End Terminal  \\\n",
       "Start Station                                 End Station                                                   \n",
       "2nd at Folsom                                 2nd at Folsom                                            45   \n",
       "                                              2nd at South Park                                       167   \n",
       "                                              2nd at Townsend                                         160   \n",
       "                                              5th at Howard                                           114   \n",
       "                                              Beale at Market                                          54   \n",
       "...                                                                                                   ...   \n",
       "Yerba Buena Center of the Arts (3rd @ Howard) Steuart at Market                                       142   \n",
       "                                              Temporary Transbay Terminal (Howard at Beale)            55   \n",
       "                                              Townsend at 7th                                         120   \n",
       "                                              Washington at Kearny                                     45   \n",
       "                                              Yerba Buena Center of the Arts (3rd @ Howard)            76   \n",
       "\n",
       "                                                                                             Bike #  \\\n",
       "Start Station                                 End Station                                             \n",
       "2nd at Folsom                                 2nd at Folsom                                      45   \n",
       "                                              2nd at South Park                                 167   \n",
       "                                              2nd at Townsend                                   160   \n",
       "                                              5th at Howard                                     114   \n",
       "                                              Beale at Market                                    54   \n",
       "...                                                                                             ...   \n",
       "Yerba Buena Center of the Arts (3rd @ Howard) Steuart at Market                                 142   \n",
       "                                              Temporary Transbay Terminal (Howard at Beale)      55   \n",
       "                                              Townsend at 7th                                   120   \n",
       "                                              Washington at Kearny                               45   \n",
       "                                              Yerba Buena Center of the Arts (3rd @ Howard)      76   \n",
       "\n",
       "                                                                                             Subscriber Type  \\\n",
       "Start Station                                 End Station                                                      \n",
       "2nd at Folsom                                 2nd at Folsom                                               45   \n",
       "                                              2nd at South Park                                          167   \n",
       "                                              2nd at Townsend                                            160   \n",
       "                                              5th at Howard                                              114   \n",
       "                                              Beale at Market                                             54   \n",
       "...                                                                                                      ...   \n",
       "Yerba Buena Center of the Arts (3rd @ Howard) Steuart at Market                                          142   \n",
       "                                              Temporary Transbay Terminal (Howard at Beale)               55   \n",
       "                                              Townsend at 7th                                            120   \n",
       "                                              Washington at Kearny                                        45   \n",
       "                                              Yerba Buena Center of the Arts (3rd @ Howard)               76   \n",
       "\n",
       "                                                                                             Zip Code  \\\n",
       "Start Station                                 End Station                                               \n",
       "2nd at Folsom                                 2nd at Folsom                                        45   \n",
       "                                              2nd at South Park                                   167   \n",
       "                                              2nd at Townsend                                     160   \n",
       "                                              5th at Howard                                       114   \n",
       "                                              Beale at Market                                      54   \n",
       "...                                                                                               ...   \n",
       "Yerba Buena Center of the Arts (3rd @ Howard) Steuart at Market                                   142   \n",
       "                                              Temporary Transbay Terminal (Howard at Beale)        55   \n",
       "                                              Townsend at 7th                                     120   \n",
       "                                              Washington at Kearny                                 45   \n",
       "                                              Yerba Buena Center of the Arts (3rd @ Howard)        76   \n",
       "\n",
       "                                                                                             Month  \\\n",
       "Start Station                                 End Station                                            \n",
       "2nd at Folsom                                 2nd at Folsom                                     45   \n",
       "                                              2nd at South Park                                167   \n",
       "                                              2nd at Townsend                                  160   \n",
       "                                              5th at Howard                                    114   \n",
       "                                              Beale at Market                                   54   \n",
       "...                                                                                            ...   \n",
       "Yerba Buena Center of the Arts (3rd @ Howard) Steuart at Market                                142   \n",
       "                                              Temporary Transbay Terminal (Howard at Beale)     55   \n",
       "                                              Townsend at 7th                                  120   \n",
       "                                              Washington at Kearny                              45   \n",
       "                                              Yerba Buena Center of the Arts (3rd @ Howard)     76   \n",
       "\n",
       "                                                                                             Day  \n",
       "Start Station                                 End Station                                         \n",
       "2nd at Folsom                                 2nd at Folsom                                   45  \n",
       "                                              2nd at South Park                              167  \n",
       "                                              2nd at Townsend                                160  \n",
       "                                              5th at Howard                                  114  \n",
       "                                              Beale at Market                                 54  \n",
       "...                                                                                          ...  \n",
       "Yerba Buena Center of the Arts (3rd @ Howard) Steuart at Market                              142  \n",
       "                                              Temporary Transbay Terminal (Howard at Beale)   55  \n",
       "                                              Townsend at 7th                                120  \n",
       "                                              Washington at Kearny                            45  \n",
       "                                              Yerba Buena Center of the Arts (3rd @ Howard)   76  \n",
       "\n",
       "[1677 rows x 11 columns]"
      ]
     },
     "execution_count": 291,
     "metadata": {},
     "output_type": "execute_result"
    }
   ],
   "source": [
    "a = df.groupby(by=['Start Station','End Station']).count()\n",
    "a"
   ]
  },
  {
   "cell_type": "code",
   "execution_count": 40,
   "metadata": {},
   "outputs": [
    {
     "name": "stdout",
     "output_type": "stream",
     "text": [
      "No of unique trips 1677\n"
     ]
    }
   ],
   "source": [
    "print(\"No of unique trips\",a.shape[0])"
   ]
  },
  {
   "cell_type": "code",
   "execution_count": 46,
   "metadata": {},
   "outputs": [
    {
     "name": "stdout",
     "output_type": "stream",
     "text": [
      "No of unique trips 1677\n"
     ]
    }
   ],
   "source": [
    "b = df.groupby(by='Start Terminal')['End Terminal'].value_counts()\n",
    "# Another method\n",
    "print(\"No of unique trips\",b.shape[0])"
   ]
  },
  {
   "cell_type": "markdown",
   "metadata": {},
   "source": [
    "### 3. Which bike is used the most in the data set? "
   ]
  },
  {
   "cell_type": "code",
   "execution_count": 49,
   "metadata": {},
   "outputs": [],
   "source": [
    "df.rename({\"Bike #\":\"Bike\"}, axis =1,inplace = True)"
   ]
  },
  {
   "cell_type": "code",
   "execution_count": 81,
   "metadata": {},
   "outputs": [
    {
     "data": {
      "text/plain": [
       "Bike\n",
       "558    569\n",
       "Name: Trip ID, dtype: int64"
      ]
     },
     "execution_count": 81,
     "metadata": {},
     "output_type": "execute_result"
    }
   ],
   "source": [
    "c = df.groupby(\"Bike\")['Trip ID'].count().sort_values(ascending = False).head(1)\n",
    "c"
   ]
  },
  {
   "cell_type": "code",
   "execution_count": 80,
   "metadata": {},
   "outputs": [
    {
     "name": "stdout",
     "output_type": "stream",
     "text": [
      "Bike 558 is used for 569 times\n"
     ]
    }
   ],
   "source": [
    "print(\"Bike {} is used for {} times\".format(c.index[0],c.values[0]))"
   ]
  },
  {
   "cell_type": "markdown",
   "metadata": {},
   "source": [
    "### 4. Which week day has more trips? "
   ]
  },
  {
   "cell_type": "code",
   "execution_count": 85,
   "metadata": {},
   "outputs": [
    {
     "data": {
      "text/html": [
       "<div>\n",
       "<style scoped>\n",
       "    .dataframe tbody tr th:only-of-type {\n",
       "        vertical-align: middle;\n",
       "    }\n",
       "\n",
       "    .dataframe tbody tr th {\n",
       "        vertical-align: top;\n",
       "    }\n",
       "\n",
       "    .dataframe thead th {\n",
       "        text-align: right;\n",
       "    }\n",
       "</style>\n",
       "<table border=\"1\" class=\"dataframe\">\n",
       "  <thead>\n",
       "    <tr style=\"text-align: right;\">\n",
       "      <th></th>\n",
       "      <th>Trip ID</th>\n",
       "      <th>Duration</th>\n",
       "      <th>Start Date</th>\n",
       "      <th>Start Station</th>\n",
       "      <th>Start Terminal</th>\n",
       "      <th>End Date</th>\n",
       "      <th>End Station</th>\n",
       "      <th>End Terminal</th>\n",
       "      <th>Bike</th>\n",
       "      <th>Subscriber Type</th>\n",
       "      <th>Zip Code</th>\n",
       "    </tr>\n",
       "  </thead>\n",
       "  <tbody>\n",
       "    <tr>\n",
       "      <td>0</td>\n",
       "      <td>432946</td>\n",
       "      <td>406</td>\n",
       "      <td>8/31/2014 22:31</td>\n",
       "      <td>Mountain View Caltrain Station</td>\n",
       "      <td>28</td>\n",
       "      <td>8/31/2014 22:38</td>\n",
       "      <td>Castro Street and El Camino Real</td>\n",
       "      <td>32</td>\n",
       "      <td>17</td>\n",
       "      <td>Subscriber</td>\n",
       "      <td>94040</td>\n",
       "    </tr>\n",
       "    <tr>\n",
       "      <td>1</td>\n",
       "      <td>432945</td>\n",
       "      <td>468</td>\n",
       "      <td>8/31/2014 22:07</td>\n",
       "      <td>Beale at Market</td>\n",
       "      <td>56</td>\n",
       "      <td>8/31/2014 22:15</td>\n",
       "      <td>Market at 4th</td>\n",
       "      <td>76</td>\n",
       "      <td>509</td>\n",
       "      <td>Customer</td>\n",
       "      <td>11231</td>\n",
       "    </tr>\n",
       "    <tr>\n",
       "      <td>2</td>\n",
       "      <td>432944</td>\n",
       "      <td>534</td>\n",
       "      <td>8/31/2014 22:06</td>\n",
       "      <td>Beale at Market</td>\n",
       "      <td>56</td>\n",
       "      <td>8/31/2014 22:15</td>\n",
       "      <td>Market at 4th</td>\n",
       "      <td>76</td>\n",
       "      <td>342</td>\n",
       "      <td>Customer</td>\n",
       "      <td>11231</td>\n",
       "    </tr>\n",
       "    <tr>\n",
       "      <td>3</td>\n",
       "      <td>432942</td>\n",
       "      <td>1041</td>\n",
       "      <td>8/31/2014 21:45</td>\n",
       "      <td>Embarcadero at Sansome</td>\n",
       "      <td>60</td>\n",
       "      <td>8/31/2014 22:02</td>\n",
       "      <td>Steuart at Market</td>\n",
       "      <td>74</td>\n",
       "      <td>603</td>\n",
       "      <td>Customer</td>\n",
       "      <td>94521</td>\n",
       "    </tr>\n",
       "    <tr>\n",
       "      <td>4</td>\n",
       "      <td>432941</td>\n",
       "      <td>1091</td>\n",
       "      <td>8/31/2014 21:44</td>\n",
       "      <td>Embarcadero at Sansome</td>\n",
       "      <td>60</td>\n",
       "      <td>8/31/2014 22:02</td>\n",
       "      <td>Steuart at Market</td>\n",
       "      <td>74</td>\n",
       "      <td>598</td>\n",
       "      <td>Customer</td>\n",
       "      <td>94521</td>\n",
       "    </tr>\n",
       "  </tbody>\n",
       "</table>\n",
       "</div>"
      ],
      "text/plain": [
       "   Trip ID  Duration       Start Date                   Start Station  \\\n",
       "0   432946       406  8/31/2014 22:31  Mountain View Caltrain Station   \n",
       "1   432945       468  8/31/2014 22:07                 Beale at Market   \n",
       "2   432944       534  8/31/2014 22:06                 Beale at Market   \n",
       "3   432942      1041  8/31/2014 21:45          Embarcadero at Sansome   \n",
       "4   432941      1091  8/31/2014 21:44          Embarcadero at Sansome   \n",
       "\n",
       "   Start Terminal         End Date                       End Station  \\\n",
       "0              28  8/31/2014 22:38  Castro Street and El Camino Real   \n",
       "1              56  8/31/2014 22:15                     Market at 4th   \n",
       "2              56  8/31/2014 22:15                     Market at 4th   \n",
       "3              60  8/31/2014 22:02                 Steuart at Market   \n",
       "4              60  8/31/2014 22:02                 Steuart at Market   \n",
       "\n",
       "   End Terminal  Bike Subscriber Type Zip Code  \n",
       "0            32    17      Subscriber    94040  \n",
       "1            76   509        Customer    11231  \n",
       "2            76   342        Customer    11231  \n",
       "3            74   603        Customer    94521  \n",
       "4            74   598        Customer    94521  "
      ]
     },
     "execution_count": 85,
     "metadata": {},
     "output_type": "execute_result"
    }
   ],
   "source": [
    "df.head()"
   ]
  },
  {
   "cell_type": "code",
   "execution_count": 118,
   "metadata": {},
   "outputs": [
    {
     "data": {
      "application/javascript": [
       "\n",
       "        if (window._pyforest_update_imports_cell) { window._pyforest_update_imports_cell('import datetime as dt\\nimport pandas as pd'); }\n",
       "    "
      ],
      "text/plain": [
       "<IPython.core.display.Javascript object>"
      ]
     },
     "metadata": {},
     "output_type": "display_data"
    }
   ],
   "source": [
    "df['Start Date'] = pd.to_datetime(df['Start Date'])"
   ]
  },
  {
   "cell_type": "code",
   "execution_count": 119,
   "metadata": {},
   "outputs": [
    {
     "data": {
      "application/javascript": [
       "\n",
       "        if (window._pyforest_update_imports_cell) { window._pyforest_update_imports_cell('import datetime as dt\\nimport pandas as pd'); }\n",
       "    "
      ],
      "text/plain": [
       "<IPython.core.display.Javascript object>"
      ]
     },
     "metadata": {},
     "output_type": "display_data"
    }
   ],
   "source": [
    "df['End Date'] = pd.to_datetime(df['End Date'])"
   ]
  },
  {
   "cell_type": "code",
   "execution_count": 187,
   "metadata": {},
   "outputs": [
    {
     "name": "stdout",
     "output_type": "stream",
     "text": [
      "Date 28  has total 6557 trips which is max\n"
     ]
    }
   ],
   "source": [
    "d = df['Start Date'].dt.day.value_counts().head(1)\n",
    "print(\"Date {}  has total {} trips which is max\".format(d.index[0],d.values[0]))"
   ]
  },
  {
   "cell_type": "code",
   "execution_count": 188,
   "metadata": {},
   "outputs": [
    {
     "name": "stdout",
     "output_type": "stream",
     "text": [
      "Month 7  has total 31279 trips which is max\n"
     ]
    }
   ],
   "source": [
    "e = df['Start Date'].dt.month.value_counts().head(1)\n",
    "print(\"Month {}  has total {} trips which is max\".format(e.index[0],e.values[0]))"
   ]
  },
  {
   "cell_type": "code",
   "execution_count": 301,
   "metadata": {},
   "outputs": [
    {
     "name": "stdout",
     "output_type": "stream",
     "text": [
      "Month  Day\n",
      "8      26     1513\n",
      "       27     1479\n",
      "       12     1380\n",
      "       25     1371\n",
      "7      29     1368\n",
      "              ... \n",
      "8      24      345\n",
      "5      11      336\n",
      "3      1       318\n",
      "       2       208\n",
      "       29      117\n",
      "Name: Trip ID, Length: 184, dtype: int64\n",
      "26th of 8th has Most no of trips = 1513\n"
     ]
    }
   ],
   "source": [
    "df['Month'] = df['Start Date'].dt.month\n",
    "df['Day'] = df['Start Date'].dt.day\n",
    "\n",
    "\n",
    "max_trip = df.groupby(by=['Month','Day'])['Trip ID'].count().sort_values(ascending = False)\n",
    "print(max_trip)\n",
    "print(\"26th of 8th has Most no of trips = {}\".format(max_trip[0]))"
   ]
  },
  {
   "cell_type": "markdown",
   "metadata": {},
   "source": [
    "### 5.  In the above day of week which unique trip is most used. "
   ]
  },
  {
   "cell_type": "code",
   "execution_count": 328,
   "metadata": {},
   "outputs": [],
   "source": [
    "trip = df[(df['Start Date'].dt.day==26) & (df['Start Date'].dt.month==8) ]"
   ]
  },
  {
   "cell_type": "code",
   "execution_count": 329,
   "metadata": {},
   "outputs": [
    {
     "data": {
      "text/plain": [
       "Start Station                                  End Station                                  \n",
       "2nd at Folsom                                  San Francisco Caltrain (Townsend at 4th)         8\n",
       "                                               Market at Sansome                                5\n",
       "                                               Harry Bridges Plaza (Ferry Building)             3\n",
       "                                               Powell Street BART                               3\n",
       "                                               San Francisco Caltrain 2 (330 Townsend)          3\n",
       "                                                                                               ..\n",
       "Yerba Buena Center of the Arts (3rd @ Howard)  Market at Sansome                                1\n",
       "                                               Mechanics Plaza (Market at Battery)              1\n",
       "                                               Post at Kearny                                   1\n",
       "                                               South Van Ness at Market                         1\n",
       "                                               Temporary Transbay Terminal (Howard at Beale)    1\n",
       "Name: End Station, Length: 653, dtype: int64"
      ]
     },
     "execution_count": 329,
     "metadata": {},
     "output_type": "execute_result"
    }
   ],
   "source": [
    "trip = trip.groupby(by='Start Station')['End Station'].value_counts()\n",
    "trip"
   ]
  },
  {
   "cell_type": "code",
   "execution_count": 243,
   "metadata": {},
   "outputs": [
    {
     "name": "stdout",
     "output_type": "stream",
     "text": [
      " from 2nd at Folsom to San Francisco Caltrain (Townsend at 4th) 8 times  \n"
     ]
    }
   ],
   "source": [
    "print(\" from 2nd at Folsom to San Francisco Caltrain (Townsend at 4th) 8 times  \")"
   ]
  },
  {
   "cell_type": "markdown",
   "metadata": {},
   "source": [
    "### 6.  Sort start terminals according to frequency of usage and list top ten and bottom ten."
   ]
  },
  {
   "cell_type": "code",
   "execution_count": 257,
   "metadata": {},
   "outputs": [
    {
     "data": {
      "text/plain": [
       "Start Terminal\n",
       "70    12950\n",
       "50     8336\n",
       "60     7010\n",
       "69     7008\n",
       "61     6824\n",
       "77     6819\n",
       "55     6540\n",
       "74     6238\n",
       "65     5479\n",
       "76     5241\n",
       "Name: Trip ID, dtype: int64"
      ]
     },
     "execution_count": 257,
     "metadata": {},
     "output_type": "execute_result"
    }
   ],
   "source": [
    "df.groupby(by ='Start Terminal')['Trip ID'].count().sort_values(ascending = False).head(10)"
   ]
  },
  {
   "cell_type": "code",
   "execution_count": 258,
   "metadata": {},
   "outputs": [
    {
     "data": {
      "text/plain": [
       "Start Terminal\n",
       "12    306\n",
       "80    306\n",
       "22    281\n",
       "38    185\n",
       "83    126\n",
       "23     59\n",
       "24     51\n",
       "21     44\n",
       "26     38\n",
       "25     22\n",
       "Name: Trip ID, dtype: int64"
      ]
     },
     "execution_count": 258,
     "metadata": {},
     "output_type": "execute_result"
    }
   ],
   "source": [
    "df.groupby(by ='Start Terminal')['Trip ID'].count().sort_values(ascending = False).tail(10)"
   ]
  },
  {
   "cell_type": "markdown",
   "metadata": {},
   "source": [
    "### 7. Which Start Station  is most used by customers? "
   ]
  },
  {
   "cell_type": "code",
   "execution_count": 269,
   "metadata": {},
   "outputs": [
    {
     "data": {
      "text/plain": [
       "Start Station\n",
       "2nd at Folsom    4165\n",
       "Name: Trip ID, dtype: int64"
      ]
     },
     "execution_count": 269,
     "metadata": {},
     "output_type": "execute_result"
    }
   ],
   "source": [
    "df.groupby(by='Start Station')['Trip ID'].count().head(1)"
   ]
  },
  {
   "cell_type": "markdown",
   "metadata": {},
   "source": [
    "### 8.  Which Start Station  is most used by Subscriber?"
   ]
  },
  {
   "cell_type": "code",
   "execution_count": 280,
   "metadata": {},
   "outputs": [
    {
     "data": {
      "text/plain": [
       "Start Station\n",
       "2nd at Folsom    3868\n",
       "Name: Trip ID, dtype: int64"
      ]
     },
     "execution_count": 280,
     "metadata": {},
     "output_type": "execute_result"
    }
   ],
   "source": [
    "type = df[df['Subscriber Type'] =='Subscriber']\n",
    "type.groupby(by='Start Station')['Trip ID'].count().head(1)"
   ]
  },
  {
   "cell_type": "markdown",
   "metadata": {},
   "source": [
    "### 9. Which hour in the week days has most usage?"
   ]
  },
  {
   "cell_type": "code",
   "execution_count": 287,
   "metadata": {},
   "outputs": [
    {
     "name": "stdout",
     "output_type": "stream",
     "text": [
      "8th hour\n"
     ]
    }
   ],
   "source": [
    "d = df['Start Date'].dt.hour.value_counts().head(1)\n",
    "print(\"{}th hour\".format(d.index[0]))"
   ]
  },
  {
   "cell_type": "markdown",
   "metadata": {},
   "source": [
    "### 10. Which hour in the weekends has most usage?  "
   ]
  },
  {
   "cell_type": "code",
   "execution_count": 365,
   "metadata": {},
   "outputs": [],
   "source": [
    "df['Weekday'] = df['Start Date'].dt.dayofweek"
   ]
  },
  {
   "cell_type": "code",
   "execution_count": 386,
   "metadata": {},
   "outputs": [],
   "source": [
    "weekday = df[(df['Weekday']== 6) | (df['Weekday']== 5 )]"
   ]
  },
  {
   "cell_type": "code",
   "execution_count": 397,
   "metadata": {},
   "outputs": [
    {
     "name": "stdout",
     "output_type": "stream",
     "text": [
      "Start Date\n",
      "8    21449\n",
      "Name: Trip ID, dtype: int64\n"
     ]
    }
   ],
   "source": [
    "print(df.groupby(by=df['Start Date'].dt.hour)['Trip ID'].count().sort_values(ascending = False).head(1))\n"
   ]
  },
  {
   "cell_type": "code",
   "execution_count": null,
   "metadata": {},
   "outputs": [],
   "source": []
  }
 ],
 "metadata": {
  "kernelspec": {
   "display_name": "Python 3",
   "language": "python",
   "name": "python3"
  },
  "language_info": {
   "codemirror_mode": {
    "name": "ipython",
    "version": 3
   },
   "file_extension": ".py",
   "mimetype": "text/x-python",
   "name": "python",
   "nbconvert_exporter": "python",
   "pygments_lexer": "ipython3",
   "version": "3.7.4"
  }
 },
 "nbformat": 4,
 "nbformat_minor": 2
}
